{
 "cells": [
  {
   "cell_type": "code",
   "execution_count": 9,
   "metadata": {},
   "outputs": [
    {
     "name": "stdout",
     "output_type": "stream",
     "text": [
      "+--------------------+---+\n",
      "|                 Yer| xM|\n",
      "+--------------------+---+\n",
      "|BOZBURUN ACIKLARI...|3.6|\n",
      "|GIRIT ADASI ACIKL...|3.6|\n",
      "|CEVRIMTAS-SIVRICE...|3.8|\n",
      "|GOKOVA KORFEZI (A...|3.7|\n",
      "|GOKOVA KORFEZI (A...|4.6|\n",
      "|GOKOVA KORFEZI (A...|3.6|\n",
      "|YENIKOY-REFAHIYE ...|3.6|\n",
      "|GOKOVA KORFEZI (A...|3.8|\n",
      "|KIVCAK-YAPRAKLI (...|3.9|\n",
      "|GOKOVA KORFEZI (A...|3.6|\n",
      "|GIRIT ADASI ACIKL...|4.3|\n",
      "|GOKOVA KORFEZI (A...|3.7|\n",
      "|GOKOVA KORFEZI (A...|3.5|\n",
      "|             AKDENIZ|3.5|\n",
      "|GOKOVA KORFEZI (A...|4.1|\n",
      "|             AKDENIZ|3.5|\n",
      "|             AKDENIZ|3.5|\n",
      "|             AKDENIZ|3.5|\n",
      "|             AKDENIZ|3.5|\n",
      "|GOKOVA KORFEZI (A...|3.5|\n",
      "+--------------------+---+\n",
      "only showing top 20 rows\n",
      "\n"
     ]
    }
   ],
   "source": [
    "from pyspark import SparkContext\n",
    "from pyspark.sql import SparkSession\n",
    "spark = SparkSession.builder.appName(\"test\").getOrCreate()\n",
    "df = spark.read.format(\"csv\").\\\n",
    "            option(\"header\",\"true\").\\\n",
    "            option(\"inferSchema\",\"true\").\\\n",
    "             option(\"delimiter\",\"\\t\").\\\n",
    "                csv(\"DepremVerileri.txt\")\n",
    "df.select(\"Yer\",\"xM\").show()"
   ]
  },
  {
   "cell_type": "code",
   "execution_count": null,
   "metadata": {},
   "outputs": [],
   "source": []
  }
 ],
 "metadata": {
  "kernelspec": {
   "display_name": "Python 3",
   "language": "python",
   "name": "python3"
  },
  "language_info": {
   "codemirror_mode": {
    "name": "ipython",
    "version": 3
   },
   "file_extension": ".py",
   "mimetype": "text/x-python",
   "name": "python",
   "nbconvert_exporter": "python",
   "pygments_lexer": "ipython3",
   "version": "3.6.1"
  }
 },
 "nbformat": 4,
 "nbformat_minor": 2
}
